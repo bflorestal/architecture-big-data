{
 "cells": [
  {
   "cell_type": "code",
   "execution_count": null,
   "id": "0425d477-5f0d-415a-a7be-5a880cfb1ce6",
   "metadata": {},
   "outputs": [],
   "source": [
    "!apt-get update"
   ]
  },
  {
   "cell_type": "code",
   "execution_count": null,
   "id": "962079d3-f48b-473f-beda-909381ac2d51",
   "metadata": {},
   "outputs": [],
   "source": [
    "!apt-get install openjdk-8-jdk-headless -qq > /dev/null"
   ]
  },
  {
   "cell_type": "code",
   "execution_count": 7,
   "id": "3f0f2257-7c21-4ecb-91dc-4d898611e6cf",
   "metadata": {},
   "outputs": [
    {
     "data": {
      "text/html": [
       "\n",
       "            <div>\n",
       "                <p><b>SparkSession - in-memory</b></p>\n",
       "                \n",
       "        <div>\n",
       "            <p><b>SparkContext</b></p>\n",
       "\n",
       "            <p><a href=\"http://42948a7f3e60:4040\">Spark UI</a></p>\n",
       "\n",
       "            <dl>\n",
       "              <dt>Version</dt>\n",
       "                <dd><code>v3.5.0</code></dd>\n",
       "              <dt>Master</dt>\n",
       "                <dd><code>local[*]</code></dd>\n",
       "              <dt>AppName</dt>\n",
       "                <dd><code>pyspark-shell</code></dd>\n",
       "            </dl>\n",
       "        </div>\n",
       "        \n",
       "            </div>\n",
       "        "
      ],
      "text/plain": [
       "<pyspark.sql.session.SparkSession at 0xffff53b6d790>"
      ]
     },
     "execution_count": 7,
     "metadata": {},
     "output_type": "execute_result"
    }
   ],
   "source": [
    "from pyspark.sql import SparkSession\n",
    "spark = SparkSession.builder.getOrCreate()\n",
    "spark"
   ]
  },
  {
   "cell_type": "code",
   "execution_count": 24,
   "id": "3d3fbad0-6068-4049-bc48-6c39dd789bf7",
   "metadata": {},
   "outputs": [],
   "source": [
    "from pyspark.sql.functions import col, count, when"
   ]
  },
  {
   "cell_type": "code",
   "execution_count": 17,
   "id": "966778ab-684e-4ea8-a08f-a27e313b6b90",
   "metadata": {},
   "outputs": [
    {
     "data": {
      "text/plain": [
       "[Row(_c0=1, carat=0.23, cut='Ideal', color='E', clarity='SI2', depth=61.5, table=55.0, price=326, x=3.95, y=3.98, z=2.43),\n",
       " Row(_c0=2, carat=0.21, cut='Premium', color='E', clarity='SI1', depth=59.8, table=61.0, price=326, x=3.89, y=3.84, z=2.31),\n",
       " Row(_c0=3, carat=0.23, cut='Good', color='E', clarity='VS1', depth=56.9, table=65.0, price=327, x=4.05, y=4.07, z=2.31),\n",
       " Row(_c0=4, carat=0.29, cut='Premium', color='I', clarity='VS2', depth=62.4, table=58.0, price=334, x=4.2, y=4.23, z=2.63),\n",
       " Row(_c0=5, carat=0.31, cut='Good', color='J', clarity='SI2', depth=63.3, table=58.0, price=335, x=4.34, y=4.35, z=2.75)]"
      ]
     },
     "execution_count": 17,
     "metadata": {},
     "output_type": "execute_result"
    }
   ],
   "source": [
    "path = \"./diamonds.csv\"\n",
    "df = spark.read.load(path, format=\"csv\", header=True,inferSchema=True)\n",
    "df.take(5)"
   ]
  },
  {
   "cell_type": "code",
   "execution_count": 21,
   "id": "42dd60f7-c212-48fc-b1cd-f7f2bde0e7e5",
   "metadata": {},
   "outputs": [
    {
     "name": "stdout",
     "output_type": "stream",
     "text": [
      "+-----+-----+-----+-----+-------+-----+-----+-----+-----+-----+-----+\n",
      "|  _c0|carat|  cut|color|clarity|depth|table|price|    x|    y|    z|\n",
      "+-----+-----+-----+-----+-------+-----+-----+-----+-----+-----+-----+\n",
      "|53940|53940|53940|53940|  53940|53940|53940|53940|53940|53940|53940|\n",
      "+-----+-----+-----+-----+-------+-----+-----+-----+-----+-----+-----+\n",
      "\n"
     ]
    }
   ],
   "source": [
    "\n",
    "# Vérification des valeurs manquantes dans chaque colonne\n",
    "missing_values_counts = df.select([col(column).isNull().cast(\"int\").alias(column) for column in df.columns])\\\n",
    "                            .agg(*[count(col(column)).alias(column) for column in df.columns])\n",
    "\n",
    "# Affichez le nombre de valeurs manquantes dans chaque colonne\n",
    "missing_values_counts.show()"
   ]
  },
  {
   "cell_type": "code",
   "execution_count": 25,
   "id": "c4e8394f-64cc-4fc2-aa3f-86288dbd4c0d",
   "metadata": {},
   "outputs": [
    {
     "name": "stdout",
     "output_type": "stream",
     "text": [
      "+---+-----+-------+-----+-------+-----+-----+-----+----+----+----+------------------+\n",
      "|_c0|carat|    cut|color|clarity|depth|table|price|   x|   y|   z|            volume|\n",
      "+---+-----+-------+-----+-------+-----+-----+-----+----+----+----+------------------+\n",
      "|  1| 0.23|  Ideal|    E|    SI2| 61.5| 55.0|  326|3.95|3.98|2.43|          38.20203|\n",
      "|  2| 0.21|Premium|    E|    SI1| 59.8| 61.0|  326|3.89|3.84|2.31|         34.505856|\n",
      "|  3| 0.23|   Good|    E|    VS1| 56.9| 65.0|  327|4.05|4.07|2.31|         38.076885|\n",
      "|  4| 0.29|Premium|    I|    VS2| 62.4| 58.0|  334| 4.2|4.23|2.63|          46.72458|\n",
      "|  5| 0.31|   Good|    J|    SI2| 63.3| 58.0|  335|4.34|4.35|2.75|51.917249999999996|\n",
      "+---+-----+-------+-----+-------+-----+-----+-----+----+----+----+------------------+\n",
      "only showing top 5 rows\n",
      "\n"
     ]
    }
   ],
   "source": [
    "data_with_volume = df.withColumn(\"volume\", col(\"x\") * col(\"y\") * col(\"z\"))\n",
    "\n",
    "columns_with_missing_values = [\"x\", \"y\", \"z\"]\n",
    "for column in columns_with_missing_values:\n",
    "    mean_value = data_with_volume.agg({column: \"mean\"}).collect()[0][0]\n",
    "    data_with_volume = data_with_volume.withColumn(column, \n",
    "                                                   when(col(column).isNull(), mean_value).otherwise(col(column)))\n",
    "\n",
    "data_with_volume.show(5)"
   ]
  },
  {
   "cell_type": "code",
   "execution_count": 29,
   "id": "46178c95-77e2-4e0e-8238-89762df5ef32",
   "metadata": {},
   "outputs": [
    {
     "name": "stdout",
     "output_type": "stream",
     "text": [
      "+------------------+\n",
      "|       max(volume)|\n",
      "+------------------+\n",
      "|3840.5980600000003|\n",
      "+------------------+\n",
      "\n"
     ]
    }
   ],
   "source": [
    "data_with_volume.agg({\"volume\": \"max\"}).show()"
   ]
  },
  {
   "cell_type": "code",
   "execution_count": 35,
   "id": "87f988e0-9b26-49b3-9e40-16d6d171733a",
   "metadata": {},
   "outputs": [
    {
     "name": "stdout",
     "output_type": "stream",
     "text": [
      "+-----+-----+---------+-----+-------+-----+-----+-----+----+----+---+------+\n",
      "|  _c0|carat|      cut|color|clarity|depth|table|price|   x|   y|  z|volume|\n",
      "+-----+-----+---------+-----+-------+-----+-----+-----+----+----+---+------+\n",
      "| 2208|  1.0|  Premium|    G|    SI2| 59.1| 59.0| 3142|6.55|6.48|0.0|   0.0|\n",
      "| 2315| 1.01|  Premium|    H|     I1| 58.1| 59.0| 3167|6.66| 6.6|0.0|   0.0|\n",
      "| 4792|  1.1|  Premium|    G|    SI2| 63.0| 59.0| 3696| 6.5|6.47|0.0|   0.0|\n",
      "| 5472| 1.01|  Premium|    F|    SI2| 59.2| 58.0| 3837| 6.5|6.47|0.0|   0.0|\n",
      "|10168|  1.5|     Good|    G|     I1| 64.0| 61.0| 4731|7.15|7.04|0.0|   0.0|\n",
      "|11183| 1.07|    Ideal|    F|    SI2| 61.6| 56.0| 4954| 0.0|6.62|0.0|   0.0|\n",
      "|11964|  1.0|Very Good|    H|    VS2| 63.3| 53.0| 5139| 0.0| 0.0|0.0|   0.0|\n",
      "|13602| 1.15|    Ideal|    G|    VS2| 59.2| 56.0| 5564|6.88|6.83|0.0|   0.0|\n",
      "|15952| 1.14|     Fair|    G|    VS1| 57.5| 67.0| 6381| 0.0| 0.0|0.0|   0.0|\n",
      "|24395| 2.18|  Premium|    H|    SI2| 59.4| 61.0|12631|8.49|8.45|0.0|   0.0|\n",
      "|24521| 1.56|    Ideal|    G|    VS2| 62.2| 54.0|12800| 0.0| 0.0|0.0|   0.0|\n",
      "|26124| 2.25|  Premium|    I|    SI1| 61.3| 58.0|15397|8.52|8.42|0.0|   0.0|\n",
      "|26244|  1.2|  Premium|    D|   VVS1| 62.1| 59.0|15686| 0.0| 0.0|0.0|   0.0|\n",
      "|27113|  2.2|  Premium|    H|    SI1| 61.2| 59.0|17265|8.42|8.37|0.0|   0.0|\n",
      "|27430| 2.25|  Premium|    H|    SI2| 62.8| 59.0|18034| 0.0| 0.0|0.0|   0.0|\n",
      "|27504| 2.02|  Premium|    H|    VS2| 62.7| 53.0|18207|8.02|7.95|0.0|   0.0|\n",
      "|27740|  2.8|     Good|    G|    SI2| 63.8| 58.0|18788| 8.9|8.85|0.0|   0.0|\n",
      "|49557| 0.71|     Good|    F|    SI2| 64.1| 60.0| 2130| 0.0| 0.0|0.0|   0.0|\n",
      "|49558| 0.71|     Good|    F|    SI2| 64.1| 60.0| 2130| 0.0| 0.0|0.0|   0.0|\n",
      "|51507| 1.12|  Premium|    G|     I1| 60.4| 59.0| 2383|6.71|6.67|0.0|   0.0|\n",
      "+-----+-----+---------+-----+-------+-----+-----+-----+----+----+---+------+\n",
      "\n"
     ]
    }
   ],
   "source": [
    "data_with_volume.filter(col(\"volume\") == 0).show()"
   ]
  },
  {
   "cell_type": "code",
   "execution_count": null,
   "id": "f418d0ea-ba73-4fb8-82d2-62ed3cff3751",
   "metadata": {},
   "outputs": [],
   "source": []
  },
  {
   "cell_type": "code",
   "execution_count": null,
   "id": "c789e966-b40c-4e8d-a4e1-1ec3eb715e16",
   "metadata": {},
   "outputs": [],
   "source": []
  }
 ],
 "metadata": {
  "kernelspec": {
   "display_name": "Python 3 (ipykernel)",
   "language": "python",
   "name": "python3"
  },
  "language_info": {
   "codemirror_mode": {
    "name": "ipython",
    "version": 3
   },
   "file_extension": ".py",
   "mimetype": "text/x-python",
   "name": "python",
   "nbconvert_exporter": "python",
   "pygments_lexer": "ipython3",
   "version": "3.11.6"
  }
 },
 "nbformat": 4,
 "nbformat_minor": 5
}
